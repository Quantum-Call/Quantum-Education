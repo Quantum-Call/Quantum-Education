{
 "cells": [
  {
   "cell_type": "markdown",
   "metadata": {},
   "source": [
    "# Programming Quantum Computers\n",
    "- <font color=\"red\">For the Software Engineer</font>"
   ]
  },
  {
   "cell_type": "markdown",
   "metadata": {},
   "source": [
    "# Chapter Ch06_03\n",
    "# <font color=\"red\">Hands-on</font>:  <font color=\"blue\">Multiple Flipped Entries</font> "
   ]
  },
  {
   "cell_type": "markdown",
   "metadata": {},
   "source": [
    "![QC_Programming-red](img/QC_Programming-red.png \"QC_Programming-red\")\n",
    "\n",
    "<BR>\n",
    "    \n",
    "<font color=\"red\">**Notice**</font>: All materials herein were created by **Matthew R. Versaggi (profversaggi@gmail.com)** and are released into the open source to foster growth and welfare of expanding the Quantum Computing domain - the only obligation one incurs when using, copying, distributing or referencing this is to kindly reference the author and send me an email so I know how useful the material is to you.\n",
    "\n",
    "<font color=\"red\">**Notice**</font>: Python Code contributions for the Circle Plots are the work of **David Radcliffe**.\n",
    "\n",
    "## Pedagogical Approach: (<font color=\"red\">**Read this first !**</font>)\n",
    "\n",
    "This material is intended to educate **software engineers** in certain aspects of Quantum Computing, therefore its focus will be on conveying the conceptual ideas in a form digestible to them, and supporting it with exercises to reinforce those concepts. \n",
    "\n",
    "Because of that pedagogical approach, **this material won't lead with or heavily leverage the concepts and language indigenous to physics and math**, but only in those terms most easily digestible to the modern software engineer.\n",
    "\n",
    "This Jupyter Notebook is <font color=\"red\">**not intended as a stand alone educational vehicle**</font>  - it's meant to be accompanied by a decicated power point deck that contains the main concepts to be presented by an instructor - **it is intended as a vehicle for a hands on workshop environment to facilitate learning through a guided experience.**\n",
    "\n",
    "> **Note:-** Because of the above educational approach:\n",
    "1. There is a certain amount of basic Quantum Computing knowledge that is assumed.\n",
    "2. An active internet connection is **always** assumed.\n",
    "3. Online references/links will be provided where appropriate\n",
    "4. References to books will be made where appropriate\n",
    "5. Much of this material is **dense and detailed**, the reader is <font color=\"red\">**cautioned**</font> to be careful and slow to digest the *nuances* of the material.\n",
    "\n",
    "## What you will be exposed to - High level: \n",
    "\n",
    "- Software engineers in the Quantum Computing space need to **<font color=\"blue\">gain a mastery of the simulation frameworks and tools used to understand and solve problems quantumly</font>**. Under the hood, the **<font color=\"red\">simulators mathematically represent the \"Ideal\" manifestations of quantum hardware</font>** that (theoretically) the \"Actual\" quantum hardware would behave exactly like. For the software engineer, this is the preferred situation as it permits them to understand and solve problems w/out being bound to the limitations of the hardware as it matures.\n",
    "\n",
    "\n",
    "- Given the above, there are a host of technical concepts that need to be **<font color=\"red\">understood experientially</font>** - we'll intentionally employ a vendor / framework agnostic approach to focus on the delivery of concept understanding and intuition procurement as the main value-add.\n",
    "\n",
    "\n",
    "## Accompanying Text:\n",
    "\n",
    "<BR>\n",
    "\n",
    "<a href=\"https://www.amazon.com/Programming-Quantum-Computers-Essential-Algorithms/dp/1492039683\" target=\"_blank\"><img src=\"img/OreillyBookImage-small.png\" height=\"250\" align=left style=\"padding:15px;\"></a>\n",
    "\n",
    "\n",
    "> The core materials leveraged in this Jupyter Notebook comes from the following book, and is required reading to engage in the problem sets covered.\n",
    "\n",
    "> The problem sets contained here will be expanded versions of the exercises contained in the book for sake of gaining intuition about the particular concept in question through leveraging various 'other' frameworks, tools, and instruments indigenous to the quantum programming space. \n",
    "\n",
    "\n",
    "> The core idea is that the various \"simulators\" circuitry (underlying mathematical representations) is considered the \"Ideal\" at the time of this JNB's construction, and therefore are the bect tools we have to address the problems we are interested in. To avoid being constrained by any particular framework, tool set, and software instruments, the idea is to leverage a host of appropriate \"tools\" when addressing any particular concept, problem or issue to remaind technology agnostic, but concept and intuition rich.\n",
    "\n",
    "\n",
    "- **Note:** The problems explored are organized and ordered according to chapter.\n",
    "\n",
    "<BR>\n",
    "\n",
    "**<font color=\"red\" size=4>Notice</font>:** - Prior to embarking on this notebook the reader is **highly encouraged to procure a <font color=\"red\" size=4>reasonable</font> <font color=\"blue\" size=4>introduction</font>** to the following key programming (and circuit) frameworks used:\n",
    "\n",
    "0. <a href=\"https://oreilly-qc.github.io/\" target=\"_blank\"><font color=\"blue\" size=4>QCEngine</font></a>\n",
    "0. <a href=\"https://qiskit.org/textbook/preface.html\" target=\"_blank\"><font color=\"blue\" size=4>Qiskit Tutorial</font></a>, <a href=\"https://qiskit.org/\" target=\"_blank\"><font color=\"blue\" size=4>Qiskit Home</font></a>\n",
    "0. <a href=\"https://algassert.com/quirk\" target=\"_blank\"><font color=\"blue\">QUIRK</font></a>\n",
    "\n",
    "# <font color=\"red\">Example Problem(s):</font> \n",
    "\n",
    "**This example problem is archetypal** of how the exercises highlighted in the book can be expanded to include a host of other tools that help build understanding and intuition of the concepts being explored. \n",
    "\n",
    "- The <font color=\"blue\">QCEngine</font> is a staple, but the <font color=\"blue\">Bloch Sphere Playground Application</font>, the <font color=\"blue\">Quantum Gate Playground</font>, <font color=\"blue\">QUIRK</font>, and <font color=\"blue\">Qiskit</font> are also instructive to leverage when persuing intuition about the concept and will be often used."
   ]
  },
  {
   "cell_type": "markdown",
   "metadata": {},
   "source": [
    "# Multiple Flipped Entries"
   ]
  },
  {
   "cell_type": "markdown",
   "metadata": {},
   "source": [
    "![Multiple Flipped Entries](img/multiple_flipped_entries.png \"Multiple Flipped Entries\")"
   ]
  },
  {
   "cell_type": "markdown",
   "metadata": {},
   "source": [
    "# <font color=\"blue\">QCEngine</font>"
   ]
  },
  {
   "cell_type": "code",
   "execution_count": 1,
   "metadata": {},
   "outputs": [
    {
     "data": {
      "text/html": [
       "\n",
       "        <iframe\n",
       "            width=\"900\"\n",
       "            height=\"900\"\n",
       "            src=\"https://oreilly-qc.github.io?p=6-3\"\n",
       "            frameborder=\"0\"\n",
       "            allowfullscreen\n",
       "        ></iframe>\n",
       "        "
      ],
      "text/plain": [
       "<IPython.lib.display.IFrame at 0x1b390271a58>"
      ]
     },
     "execution_count": 1,
     "metadata": {},
     "output_type": "execute_result"
    }
   ],
   "source": [
    "from IPython.display import IFrame\n",
    "IFrame(src='https://oreilly-qc.github.io?p=6-3', width=900, height=900)"
   ]
  },
  {
   "cell_type": "markdown",
   "metadata": {},
   "source": [
    "# <font color=\"blue\">Qiskit</font>"
   ]
  },
  {
   "cell_type": "code",
   "execution_count": 2,
   "metadata": {},
   "outputs": [],
   "source": [
    "from qiskit import QuantumCircuit, QuantumRegister, ClassicalRegister, execute, Aer, IBMQ, BasicAer\n",
    "import math\n",
    "## Uncomment the next line to see diagrams when running in a notebook\n",
    "%matplotlib inline"
   ]
  },
  {
   "cell_type": "code",
   "execution_count": 3,
   "metadata": {},
   "outputs": [],
   "source": [
    "## Example 6-3: Multiple flipped entries\n",
    "\n",
    "## Note that this looks different from the gates in the book, because\n",
    "## we're building the operations from Toffoli gates\n",
    "## Also, increasing the register size will require increasing the scratch size as well.\n",
    "\n",
    "# Set up the program\n",
    "reg = QuantumRegister(4, name='reg')\n",
    "scratch = QuantumRegister(1, name='scratch')\n",
    "qc = QuantumCircuit(reg, scratch)"
   ]
  },
  {
   "cell_type": "code",
   "execution_count": 4,
   "metadata": {},
   "outputs": [],
   "source": [
    "def main():\n",
    "    n2f = [0,1,2]\n",
    "    number_of_iterations = 5\n",
    "\n",
    "    qc.h(reg)\n",
    "\n",
    "    for i in range(number_of_iterations):\n",
    "        ## Flip the marked value\n",
    "        qc.barrier()\n",
    "        for number_to_flip in n2f:\n",
    "            x_bits = ~number_to_flip\n",
    "            x_list = [reg[x] for x in range(len(reg)) if x_bits & (1 << x)]\n",
    "            qc.x(x_list)\n",
    "            multi_cz([x for x in reg])\n",
    "            qc.x(x_list)\n",
    "\n",
    "        qc.barrier()\n",
    "        Grover(reg)"
   ]
  },
  {
   "cell_type": "code",
   "execution_count": 5,
   "metadata": {},
   "outputs": [],
   "source": [
    "###############################################\n",
    "## Some utility functions\n",
    "\n",
    "def Grover(qreg, condition_qubits=None):\n",
    "    if condition_qubits is None:\n",
    "        condition_qubits = []\n",
    "    qc.h(qreg)\n",
    "    qc.x(qreg)\n",
    "    multi_cz([x for x in qreg] + condition_qubits)\n",
    "    qc.x(qreg)\n",
    "    qc.h(qreg)\n",
    "\n",
    "def multi_cz(qubits):\n",
    "    ## This will perform a CCCCCZ on as many qubits as we want,\n",
    "    ## as long as we have enough scratch qubits\n",
    "    multi_cx(qubits, do_cz=True)\n",
    "\n",
    "def multi_cx(qubits, do_cz=False):\n",
    "    ## This will perform a CCCCCX with as many conditions as we want,\n",
    "    ## as long as we have enough scratch qubits\n",
    "    ## The last qubit in the list is the target.\n",
    "    target = qubits[-1]\n",
    "    conds = qubits[:-1]\n",
    "    scratch_index = 0\n",
    "    ops = []\n",
    "    while len(conds) > 2:\n",
    "        new_conds = []\n",
    "        for i in range(len(conds)//2):\n",
    "            ops.append((conds[i * 2], conds[i * 2 + 1], scratch[scratch_index]))\n",
    "            new_conds.append(scratch[scratch_index])\n",
    "            scratch_index += 1\n",
    "        if len(conds) & 1:\n",
    "            new_conds.append(conds[-1])\n",
    "        conds = new_conds\n",
    "    for op in ops:\n",
    "        qc.ccx(op[0], op[1], op[2])\n",
    "    if do_cz:\n",
    "        qc.h(target)\n",
    "    if len(conds) == 0:\n",
    "        qc.x(target)\n",
    "    elif len(conds) == 1:\n",
    "        qc.cx(conds[0], target)\n",
    "    else:\n",
    "        qc.ccx(conds[0], conds[1], target)\n",
    "    if do_cz:\n",
    "        qc.h(target)\n",
    "    ops.reverse()\n",
    "    for op in ops:\n",
    "        qc.ccx(op[0], op[1], op[2])"
   ]
  },
  {
   "cell_type": "code",
   "execution_count": 6,
   "metadata": {},
   "outputs": [],
   "source": [
    "main()"
   ]
  },
  {
   "cell_type": "code",
   "execution_count": 7,
   "metadata": {},
   "outputs": [],
   "source": [
    "## That's the program. Everything below runs and draws it.\n",
    "\n",
    "backend = BasicAer.get_backend('statevector_simulator')\n",
    "job = execute(qc, backend)\n",
    "result = job.result()"
   ]
  },
  {
   "cell_type": "code",
   "execution_count": 8,
   "metadata": {
    "scrolled": false
   },
   "outputs": [
    {
     "name": "stdout",
     "output_type": "stream",
     "text": [
      "|0> (0.564-0j) probability = 31.8096%\n",
      "|1> (0.564-0j) probability = 31.8096%\n",
      "|2> (0.564-0j) probability = 31.8096%\n",
      "|3> (-0.059+0j) probability = 0.3481%\n",
      "|4> (-0.059+0j) probability = 0.3481%\n",
      "|5> (-0.059+0j) probability = 0.3481%\n",
      "|6> (-0.059+0j) probability = 0.3481%\n",
      "|7> (-0.059+0j) probability = 0.3481%\n",
      "|8> (-0.059+0j) probability = 0.3481%\n",
      "|9> (-0.059+0j) probability = 0.3481%\n",
      "|10> (-0.059+0j) probability = 0.3481%\n",
      "|11> (-0.059+0j) probability = 0.3481%\n",
      "|12> (-0.059+0j) probability = 0.3481%\n",
      "|13> (-0.059+0j) probability = 0.3481%\n",
      "|14> (-0.059+0j) probability = 0.3481%\n",
      "|15> (-0.059+0j) probability = 0.3481%\n",
      "Total probability: 100%\n"
     ]
    },
    {
     "data": {
      "text/html": [
       "<pre style=\"word-wrap: normal;white-space: pre;background: #fff0;line-height: 1.1;font-family: &quot;Courier New&quot;,Courier,monospace\">              ┌───┐ ░ ┌───┐                         ┌───┐                    »\n",
       "    reg_0: |0>┤ H ├─░─┤ X ├──■───────────────────■──┤ X ├───────■────────────»\n",
       "              ├───┤ ░ ├───┤  │                   │  ├───┤┌───┐  │            »\n",
       "    reg_1: |0>┤ H ├─░─┤ X ├──■───────────────────■──┤ X ├┤ X ├──■────────────»\n",
       "              ├───┤ ░ ├───┤  │            ┌───┐  │  ├───┤└───┘  │            »\n",
       "    reg_2: |0>┤ H ├─░─┤ X ├──┼─────────■──┤ X ├──┼──┤ X ├───────┼─────────■──»\n",
       "              ├───┤ ░ ├───┤  │  ┌───┐┌─┴─┐├───┤  │  ├───┤┌───┐  │  ┌───┐┌─┴─┐»\n",
       "    reg_3: |0>┤ H ├─░─┤ X ├──┼──┤ H ├┤ X ├┤ H ├──┼──┤ X ├┤ X ├──┼──┤ H ├┤ X ├»\n",
       "              └───┘ ░ └───┘┌─┴─┐└───┘└─┬─┘└───┘┌─┴─┐└───┘└───┘┌─┴─┐└───┘└─┬─┘»\n",
       "scratch_0: |0>──────░──────┤ X ├───────■───────┤ X ├──────────┤ X ├───────■──»\n",
       "                    ░      └───┘               └───┘          └───┘          »\n",
       "«                     ┌───┐                              ┌───┐ ░ ┌───┐┌───┐»\n",
       "«    reg_0: ───────■──┤ X ├───────■───────────────────■──┤ X ├─░─┤ H ├┤ X ├»\n",
       "«                  │  ├───┤       │                   │  └───┘ ░ ├───┤├───┤»\n",
       "«    reg_1: ───────■──┤ X ├───────■───────────────────■────────░─┤ H ├┤ X ├»\n",
       "«           ┌───┐  │  ├───┤       │            ┌───┐  │        ░ ├───┤├───┤»\n",
       "«    reg_2: ┤ X ├──┼──┤ X ├───────┼─────────■──┤ X ├──┼────────░─┤ H ├┤ X ├»\n",
       "«           ├───┤  │  ├───┤┌───┐  │  ┌───┐┌─┴─┐├───┤  │  ┌───┐ ░ ├───┤├───┤»\n",
       "«    reg_3: ┤ H ├──┼──┤ X ├┤ X ├──┼──┤ H ├┤ X ├┤ H ├──┼──┤ X ├─░─┤ H ├┤ X ├»\n",
       "«           └───┘┌─┴─┐└───┘└───┘┌─┴─┐└───┘└─┬─┘└───┘┌─┴─┐└───┘ ░ └───┘└───┘»\n",
       "«scratch_0: ─────┤ X ├──────────┤ X ├───────■───────┤ X ├──────░───────────»\n",
       "«                └───┘          └───┘               └───┘      ░           »\n",
       "«                                    ┌───┐┌───┐ ░ ┌───┐                    »\n",
       "«    reg_0: ──■───────────────────■──┤ X ├┤ H ├─░─┤ X ├──■─────────────────»\n",
       "«             │                   │  ├───┤├───┤ ░ ├───┤  │                 »\n",
       "«    reg_1: ──■───────────────────■──┤ X ├┤ H ├─░─┤ X ├──■─────────────────»\n",
       "«             │            ┌───┐  │  ├───┤└───┘ ░ ├───┤  │            ┌───┐»\n",
       "«    reg_2: ──┼─────────■──┤ X ├──┼──┤ H ├──────░─┤ X ├──┼─────────■──┤ X ├»\n",
       "«             │  ┌───┐┌─┴─┐├───┤  │  ├───┤┌───┐ ░ ├───┤  │  ┌───┐┌─┴─┐├───┤»\n",
       "«    reg_3: ──┼──┤ H ├┤ X ├┤ H ├──┼──┤ X ├┤ H ├─░─┤ X ├──┼──┤ H ├┤ X ├┤ H ├»\n",
       "«           ┌─┴─┐└───┘└─┬─┘└───┘┌─┴─┐└───┘└───┘ ░ └───┘┌─┴─┐└───┘└─┬─┘└───┘»\n",
       "«scratch_0: ┤ X ├───────■───────┤ X ├───────────░──────┤ X ├───────■───────»\n",
       "«           └───┘               └───┘           ░      └───┘               »\n",
       "«                ┌───┐                              ┌───┐                    »\n",
       "«    reg_0: ──■──┤ X ├───────■───────────────────■──┤ X ├───────■────────────»\n",
       "«             │  ├───┤┌───┐  │                   │  ├───┤       │            »\n",
       "«    reg_1: ──■──┤ X ├┤ X ├──■───────────────────■──┤ X ├───────■────────────»\n",
       "«             │  ├───┤└───┘  │            ┌───┐  │  ├───┤       │            »\n",
       "«    reg_2: ──┼──┤ X ├───────┼─────────■──┤ X ├──┼──┤ X ├───────┼─────────■──»\n",
       "«             │  ├───┤┌───┐  │  ┌───┐┌─┴─┐├───┤  │  ├───┤┌───┐  │  ┌───┐┌─┴─┐»\n",
       "«    reg_3: ──┼──┤ X ├┤ X ├──┼──┤ H ├┤ X ├┤ H ├──┼──┤ X ├┤ X ├──┼──┤ H ├┤ X ├»\n",
       "«           ┌─┴─┐└───┘└───┘┌─┴─┐└───┘└─┬─┘└───┘┌─┴─┐└───┘└───┘┌─┴─┐└───┘└─┬─┘»\n",
       "«scratch_0: ┤ X ├──────────┤ X ├───────■───────┤ X ├──────────┤ X ├───────■──»\n",
       "«           └───┘          └───┘               └───┘          └───┘          »\n",
       "«                     ┌───┐ ░ ┌───┐┌───┐                         ┌───┐┌───┐ ░ »\n",
       "«    reg_0: ───────■──┤ X ├─░─┤ H ├┤ X ├──■───────────────────■──┤ X ├┤ H ├─░─»\n",
       "«                  │  └───┘ ░ ├───┤├───┤  │                   │  ├───┤├───┤ ░ »\n",
       "«    reg_1: ───────■────────░─┤ H ├┤ X ├──■───────────────────■──┤ X ├┤ H ├─░─»\n",
       "«           ┌───┐  │        ░ ├───┤├───┤  │            ┌───┐  │  ├───┤└───┘ ░ »\n",
       "«    reg_2: ┤ X ├──┼────────░─┤ H ├┤ X ├──┼─────────■──┤ X ├──┼──┤ H ├──────░─»\n",
       "«           ├───┤  │  ┌───┐ ░ ├───┤├───┤  │  ┌───┐┌─┴─┐├───┤  │  ├───┤┌───┐ ░ »\n",
       "«    reg_3: ┤ H ├──┼──┤ X ├─░─┤ H ├┤ X ├──┼──┤ H ├┤ X ├┤ H ├──┼──┤ X ├┤ H ├─░─»\n",
       "«           └───┘┌─┴─┐└───┘ ░ └───┘└───┘┌─┴─┐└───┘└─┬─┘└───┘┌─┴─┐└───┘└───┘ ░ »\n",
       "«scratch_0: ─────┤ X ├──────░───────────┤ X ├───────■───────┤ X ├───────────░─»\n",
       "«                └───┘      ░           └───┘               └───┘           ░ »\n",
       "«           ┌───┐                         ┌───┐                              »\n",
       "«    reg_0: ┤ X ├──■───────────────────■──┤ X ├───────■───────────────────■──»\n",
       "«           ├───┤  │                   │  ├───┤┌───┐  │                   │  »\n",
       "«    reg_1: ┤ X ├──■───────────────────■──┤ X ├┤ X ├──■───────────────────■──»\n",
       "«           ├───┤  │            ┌───┐  │  ├───┤└───┘  │            ┌───┐  │  »\n",
       "«    reg_2: ┤ X ├──┼─────────■──┤ X ├──┼──┤ X ├───────┼─────────■──┤ X ├──┼──»\n",
       "«           ├───┤  │  ┌───┐┌─┴─┐├───┤  │  ├───┤┌───┐  │  ┌───┐┌─┴─┐├───┤  │  »\n",
       "«    reg_3: ┤ X ├──┼──┤ H ├┤ X ├┤ H ├──┼──┤ X ├┤ X ├──┼──┤ H ├┤ X ├┤ H ├──┼──»\n",
       "«           └───┘┌─┴─┐└───┘└─┬─┘└───┘┌─┴─┐└───┘└───┘┌─┴─┐└───┘└─┬─┘└───┘┌─┴─┐»\n",
       "«scratch_0: ─────┤ X ├───────■───────┤ X ├──────────┤ X ├───────■───────┤ X ├»\n",
       "«                └───┘               └───┘          └───┘               └───┘»\n",
       "«           ┌───┐                              ┌───┐ ░ ┌───┐┌───┐          »\n",
       "«    reg_0: ┤ X ├───────■───────────────────■──┤ X ├─░─┤ H ├┤ X ├──■───────»\n",
       "«           ├───┤       │                   │  └───┘ ░ ├───┤├───┤  │       »\n",
       "«    reg_1: ┤ X ├───────■───────────────────■────────░─┤ H ├┤ X ├──■───────»\n",
       "«           ├───┤       │            ┌───┐  │        ░ ├───┤├───┤  │       »\n",
       "«    reg_2: ┤ X ├───────┼─────────■──┤ X ├──┼────────░─┤ H ├┤ X ├──┼───────»\n",
       "«           ├───┤┌───┐  │  ┌───┐┌─┴─┐├───┤  │  ┌───┐ ░ ├───┤├───┤  │  ┌───┐»\n",
       "«    reg_3: ┤ X ├┤ X ├──┼──┤ H ├┤ X ├┤ H ├──┼──┤ X ├─░─┤ H ├┤ X ├──┼──┤ H ├»\n",
       "«           └───┘└───┘┌─┴─┐└───┘└─┬─┘└───┘┌─┴─┐└───┘ ░ └───┘└───┘┌─┴─┐└───┘»\n",
       "«scratch_0: ──────────┤ X ├───────■───────┤ X ├──────░───────────┤ X ├─────»\n",
       "«                     └───┘               └───┘      ░           └───┘     »\n",
       "«                          ┌───┐┌───┐ ░ ┌───┐                         ┌───┐»\n",
       "«    reg_0: ────────────■──┤ X ├┤ H ├─░─┤ X ├──■───────────────────■──┤ X ├»\n",
       "«                       │  ├───┤├───┤ ░ ├───┤  │                   │  ├───┤»\n",
       "«    reg_1: ────────────■──┤ X ├┤ H ├─░─┤ X ├──■───────────────────■──┤ X ├»\n",
       "«                ┌───┐  │  ├───┤└───┘ ░ ├───┤  │            ┌───┐  │  ├───┤»\n",
       "«    reg_2: ──■──┤ X ├──┼──┤ H ├──────░─┤ X ├──┼─────────■──┤ X ├──┼──┤ X ├»\n",
       "«           ┌─┴─┐├───┤  │  ├───┤┌───┐ ░ ├───┤  │  ┌───┐┌─┴─┐├───┤  │  ├───┤»\n",
       "«    reg_3: ┤ X ├┤ H ├──┼──┤ X ├┤ H ├─░─┤ X ├──┼──┤ H ├┤ X ├┤ H ├──┼──┤ X ├»\n",
       "«           └─┬─┘└───┘┌─┴─┐└───┘└───┘ ░ └───┘┌─┴─┐└───┘└─┬─┘└───┘┌─┴─┐└───┘»\n",
       "«scratch_0: ──■───────┤ X ├───────────░──────┤ X ├───────■───────┤ X ├─────»\n",
       "«                     └───┘           ░      └───┘               └───┘     »\n",
       "«                                         ┌───┐                              »\n",
       "«    reg_0: ───────■───────────────────■──┤ X ├───────■───────────────────■──»\n",
       "«           ┌───┐  │                   │  ├───┤       │                   │  »\n",
       "«    reg_1: ┤ X ├──■───────────────────■──┤ X ├───────■───────────────────■──»\n",
       "«           └───┘  │            ┌───┐  │  ├───┤       │            ┌───┐  │  »\n",
       "«    reg_2: ───────┼─────────■──┤ X ├──┼──┤ X ├───────┼─────────■──┤ X ├──┼──»\n",
       "«           ┌───┐  │  ┌───┐┌─┴─┐├───┤  │  ├───┤┌───┐  │  ┌───┐┌─┴─┐├───┤  │  »\n",
       "«    reg_3: ┤ X ├──┼──┤ H ├┤ X ├┤ H ├──┼──┤ X ├┤ X ├──┼──┤ H ├┤ X ├┤ H ├──┼──»\n",
       "«           └───┘┌─┴─┐└───┘└─┬─┘└───┘┌─┴─┐└───┘└───┘┌─┴─┐└───┘└─┬─┘└───┘┌─┴─┐»\n",
       "«scratch_0: ─────┤ X ├───────■───────┤ X ├──────────┤ X ├───────■───────┤ X ├»\n",
       "«                └───┘               └───┘          └───┘               └───┘»\n",
       "«           ┌───┐ ░ ┌───┐┌───┐                         ┌───┐┌───┐ ░ ┌───┐     »\n",
       "«    reg_0: ┤ X ├─░─┤ H ├┤ X ├──■───────────────────■──┤ X ├┤ H ├─░─┤ X ├──■──»\n",
       "«           └───┘ ░ ├───┤├───┤  │                   │  ├───┤├───┤ ░ ├───┤  │  »\n",
       "«    reg_1: ──────░─┤ H ├┤ X ├──■───────────────────■──┤ X ├┤ H ├─░─┤ X ├──■──»\n",
       "«                 ░ ├───┤├───┤  │            ┌───┐  │  ├───┤└───┘ ░ ├───┤  │  »\n",
       "«    reg_2: ──────░─┤ H ├┤ X ├──┼─────────■──┤ X ├──┼──┤ H ├──────░─┤ X ├──┼──»\n",
       "«           ┌───┐ ░ ├───┤├───┤  │  ┌───┐┌─┴─┐├───┤  │  ├───┤┌───┐ ░ ├───┤  │  »\n",
       "«    reg_3: ┤ X ├─░─┤ H ├┤ X ├──┼──┤ H ├┤ X ├┤ H ├──┼──┤ X ├┤ H ├─░─┤ X ├──┼──»\n",
       "«           └───┘ ░ └───┘└───┘┌─┴─┐└───┘└─┬─┘└───┘┌─┴─┐└───┘└───┘ ░ └───┘┌─┴─┐»\n",
       "«scratch_0: ──────░───────────┤ X ├───────■───────┤ X ├───────────░──────┤ X ├»\n",
       "«                 ░           └───┘               └───┘           ░      └───┘»\n",
       "«                               ┌───┐                              ┌───┐     »\n",
       "«    reg_0: ─────────────────■──┤ X ├───────■───────────────────■──┤ X ├─────»\n",
       "«                            │  ├───┤┌───┐  │                   │  ├───┤     »\n",
       "«    reg_1: ─────────────────■──┤ X ├┤ X ├──■───────────────────■──┤ X ├─────»\n",
       "«                     ┌───┐  │  ├───┤└───┘  │            ┌───┐  │  ├───┤     »\n",
       "«    reg_2: ───────■──┤ X ├──┼──┤ X ├───────┼─────────■──┤ X ├──┼──┤ X ├─────»\n",
       "«           ┌───┐┌─┴─┐├───┤  │  ├───┤┌───┐  │  ┌───┐┌─┴─┐├───┤  │  ├───┤┌───┐»\n",
       "«    reg_3: ┤ H ├┤ X ├┤ H ├──┼──┤ X ├┤ X ├──┼──┤ H ├┤ X ├┤ H ├──┼──┤ X ├┤ X ├»\n",
       "«           └───┘└─┬─┘└───┘┌─┴─┐└───┘└───┘┌─┴─┐└───┘└─┬─┘└───┘┌─┴─┐└───┘└───┘»\n",
       "«scratch_0: ───────■───────┤ X ├──────────┤ X ├───────■───────┤ X ├──────────»\n",
       "«                          └───┘          └───┘               └───┘          »\n",
       "«                                    ┌───┐ ░ ┌───┐┌───┐                    »\n",
       "«    reg_0: ──■───────────────────■──┤ X ├─░─┤ H ├┤ X ├──■─────────────────»\n",
       "«             │                   │  └───┘ ░ ├───┤├───┤  │                 »\n",
       "«    reg_1: ──■───────────────────■────────░─┤ H ├┤ X ├──■─────────────────»\n",
       "«             │            ┌───┐  │        ░ ├───┤├───┤  │            ┌───┐»\n",
       "«    reg_2: ──┼─────────■──┤ X ├──┼────────░─┤ H ├┤ X ├──┼─────────■──┤ X ├»\n",
       "«             │  ┌───┐┌─┴─┐├───┤  │  ┌───┐ ░ ├───┤├───┤  │  ┌───┐┌─┴─┐├───┤»\n",
       "«    reg_3: ──┼──┤ H ├┤ X ├┤ H ├──┼──┤ X ├─░─┤ H ├┤ X ├──┼──┤ H ├┤ X ├┤ H ├»\n",
       "«           ┌─┴─┐└───┘└─┬─┘└───┘┌─┴─┐└───┘ ░ └───┘└───┘┌─┴─┐└───┘└─┬─┘└───┘»\n",
       "«scratch_0: ┤ X ├───────■───────┤ X ├──────░───────────┤ X ├───────■───────»\n",
       "«           └───┘               └───┘      ░           └───┘               »\n",
       "«                ┌───┐┌───┐\n",
       "«    reg_0: ──■──┤ X ├┤ H ├\n",
       "«             │  ├───┤├───┤\n",
       "«    reg_1: ──■──┤ X ├┤ H ├\n",
       "«             │  ├───┤└───┘\n",
       "«    reg_2: ──┼──┤ H ├─────\n",
       "«             │  ├───┤┌───┐\n",
       "«    reg_3: ──┼──┤ X ├┤ H ├\n",
       "«           ┌─┴─┐└───┘└───┘\n",
       "«scratch_0: ┤ X ├──────────\n",
       "«           └───┘          </pre>"
      ],
      "text/plain": [
       "<qiskit.visualization.text.TextDrawing at 0x1c4c3206668>"
      ]
     },
     "execution_count": 8,
     "metadata": {},
     "output_type": "execute_result"
    }
   ],
   "source": [
    "outputstate = result.get_statevector(qc, decimals=3)\n",
    "total_prob = 0\n",
    "for i,amp in enumerate(outputstate):\n",
    "    if abs(amp) > 0.000001:\n",
    "        prob = abs(amp) * abs(amp)\n",
    "        total_prob += prob\n",
    "        print('|{}> {} probability = {}%'.format(i, amp, round(prob * 100, 5)))\n",
    "print('Total probability: {}%'.format(int(round(total_prob * 100))))\n",
    "\n",
    "# qc.draw()        # draw the circuit\n",
    "qc.draw(output='mpl')        # draw the circuit"
   ]
  },
  {
   "cell_type": "code",
   "execution_count": null,
   "metadata": {},
   "outputs": [],
   "source": []
  },
  {
   "cell_type": "markdown",
   "metadata": {},
   "source": [
    "![the-end](img/the-end.png \"the-end\")"
   ]
  }
 ],
 "metadata": {
  "kernelspec": {
   "display_name": "qcousins",
   "language": "python",
   "name": "qcousins"
  },
  "language_info": {
   "codemirror_mode": {
    "name": "ipython",
    "version": 3
   },
   "file_extension": ".py",
   "mimetype": "text/x-python",
   "name": "python",
   "nbconvert_exporter": "python",
   "pygments_lexer": "ipython3",
   "version": "3.7.1"
  }
 },
 "nbformat": 4,
 "nbformat_minor": 2
}
